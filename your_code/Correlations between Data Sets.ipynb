{
 "cells": [
  {
   "cell_type": "code",
   "execution_count": 1,
   "metadata": {},
   "outputs": [],
   "source": [
    "import numpy as np\n",
    "import pandas as pd"
   ]
  },
  {
   "cell_type": "code",
   "execution_count": 7,
   "metadata": {},
   "outputs": [
    {
     "data": {
      "text/html": [
       "<div>\n",
       "<style scoped>\n",
       "    .dataframe tbody tr th:only-of-type {\n",
       "        vertical-align: middle;\n",
       "    }\n",
       "\n",
       "    .dataframe tbody tr th {\n",
       "        vertical-align: top;\n",
       "    }\n",
       "\n",
       "    .dataframe thead th {\n",
       "        text-align: right;\n",
       "    }\n",
       "</style>\n",
       "<table border=\"1\" class=\"dataframe\">\n",
       "  <thead>\n",
       "    <tr style=\"text-align: right;\">\n",
       "      <th></th>\n",
       "      <th>NO2_2012</th>\n",
       "      <th>NO2_2013</th>\n",
       "      <th>NO2_2014</th>\n",
       "      <th>NO2_2015</th>\n",
       "      <th>NO2_2016</th>\n",
       "      <th>NO2_2017</th>\n",
       "      <th>NO2_2018</th>\n",
       "    </tr>\n",
       "    <tr>\n",
       "      <th>NO2_name</th>\n",
       "      <th></th>\n",
       "      <th></th>\n",
       "      <th></th>\n",
       "      <th></th>\n",
       "      <th></th>\n",
       "      <th></th>\n",
       "      <th></th>\n",
       "    </tr>\n",
       "  </thead>\n",
       "  <tbody>\n",
       "    <tr>\n",
       "      <td>Amsterdam-Einsteinweg</td>\n",
       "      <td>110.917</td>\n",
       "      <td>109.375</td>\n",
       "      <td>95.739</td>\n",
       "      <td>91.175</td>\n",
       "      <td>99.525</td>\n",
       "      <td>93.408</td>\n",
       "      <td>91.14</td>\n",
       "    </tr>\n",
       "    <tr>\n",
       "      <td>Amsterdam-Van Diemenstraat</td>\n",
       "      <td>96.792</td>\n",
       "      <td>94.0</td>\n",
       "      <td>78.333</td>\n",
       "      <td>80.421</td>\n",
       "      <td>95.804</td>\n",
       "      <td>81.361</td>\n",
       "      <td>82.67</td>\n",
       "    </tr>\n",
       "    <tr>\n",
       "      <td>Amsterdam-Vondelpark</td>\n",
       "      <td>70.417</td>\n",
       "      <td>79.458</td>\n",
       "      <td>59.25</td>\n",
       "      <td>54.521</td>\n",
       "      <td>64.813</td>\n",
       "      <td>64.058</td>\n",
       "      <td>59.08</td>\n",
       "    </tr>\n",
       "    <tr>\n",
       "      <td>Amsterdam-Stadhouderskade</td>\n",
       "      <td>89.0</td>\n",
       "      <td>83.75</td>\n",
       "      <td>74.713</td>\n",
       "      <td>71.292</td>\n",
       "      <td>76.975</td>\n",
       "      <td>71.921</td>\n",
       "      <td>78.22</td>\n",
       "    </tr>\n",
       "  </tbody>\n",
       "</table>\n",
       "</div>"
      ],
      "text/plain": [
       "                           NO2_2012 NO2_2013 NO2_2014 NO2_2015 NO2_2016  \\\n",
       "NO2_name                                                                  \n",
       "Amsterdam-Einsteinweg       110.917  109.375   95.739   91.175   99.525   \n",
       "Amsterdam-Van Diemenstraat   96.792     94.0   78.333   80.421   95.804   \n",
       "Amsterdam-Vondelpark         70.417   79.458    59.25   54.521   64.813   \n",
       "Amsterdam-Stadhouderskade      89.0    83.75   74.713   71.292   76.975   \n",
       "\n",
       "                           NO2_2017 NO2_2018  \n",
       "NO2_name                                      \n",
       "Amsterdam-Einsteinweg        93.408    91.14  \n",
       "Amsterdam-Van Diemenstraat   81.361    82.67  \n",
       "Amsterdam-Vondelpark         64.058    59.08  \n",
       "Amsterdam-Stadhouderskade    71.921    78.22  "
      ]
     },
     "execution_count": 7,
     "metadata": {},
     "output_type": "execute_result"
    }
   ],
   "source": [
    "pollutant_one = pd.read_csv('../data/NO2_2010_2020.csv', sep=';')\n",
    "pollutant_one = pd.read_csv('../data/NO2_2010_2020.csv', sep=';')\n",
    "pollutant_one.drop(pollutant_one.iloc[:,:1], inplace = True, axis = 1) \n",
    "pollutant_one.columns = 'NO2_' + pollutant_one.columns\n",
    "amsterdam_pollutant_one = pollutant_one[pollutant_one['NO2_name'].str.contains('Amsterdam', na=False)]\n",
    "amsterdam_pollutant_one = amsterdam_pollutant_one.drop([37,39,64,65,70,71,72,73], axis = 0)\n",
    "amsterdam_pollutant_one = amsterdam_pollutant_one.set_index('NO2_name')\n",
    "amsterdam_pollutant_one"
   ]
  },
  {
   "cell_type": "code",
   "execution_count": 8,
   "metadata": {},
   "outputs": [
    {
     "data": {
      "text/plain": [
       "99.525"
      ]
     },
     "execution_count": 8,
     "metadata": {},
     "output_type": "execute_result"
    }
   ],
   "source": [
    "amsterdam_pollutant_one.max().max()"
   ]
  },
  {
   "cell_type": "code",
   "execution_count": 9,
   "metadata": {},
   "outputs": [
    {
     "data": {
      "text/plain": [
       "54.521"
      ]
     },
     "execution_count": 9,
     "metadata": {},
     "output_type": "execute_result"
    }
   ],
   "source": [
    "amsterdam_pollutant_one.min().min()"
   ]
  },
  {
   "cell_type": "code",
   "execution_count": 12,
   "metadata": {},
   "outputs": [
    {
     "data": {
      "text/html": [
       "<div>\n",
       "<style scoped>\n",
       "    .dataframe tbody tr th:only-of-type {\n",
       "        vertical-align: middle;\n",
       "    }\n",
       "\n",
       "    .dataframe tbody tr th {\n",
       "        vertical-align: top;\n",
       "    }\n",
       "\n",
       "    .dataframe thead th {\n",
       "        text-align: right;\n",
       "    }\n",
       "</style>\n",
       "<table border=\"1\" class=\"dataframe\">\n",
       "  <thead>\n",
       "    <tr style=\"text-align: right;\">\n",
       "      <th></th>\n",
       "      <th>PM2.5_2012</th>\n",
       "      <th>PM2.5_2013</th>\n",
       "      <th>PM2.5_2014</th>\n",
       "      <th>PM2.5_2015</th>\n",
       "      <th>PM2.5_2016</th>\n",
       "      <th>PM2.5_2017</th>\n",
       "      <th>PM2.5_2018</th>\n",
       "    </tr>\n",
       "    <tr>\n",
       "      <th>PM2.5_name</th>\n",
       "      <th></th>\n",
       "      <th></th>\n",
       "      <th></th>\n",
       "      <th></th>\n",
       "      <th></th>\n",
       "      <th></th>\n",
       "      <th></th>\n",
       "    </tr>\n",
       "  </thead>\n",
       "  <tbody>\n",
       "    <tr>\n",
       "      <td>Amsterdam-Einsteinweg</td>\n",
       "      <td>93.713</td>\n",
       "      <td>62.946</td>\n",
       "      <td>79.0</td>\n",
       "      <td>-83.846</td>\n",
       "      <td>64.427</td>\n",
       "      <td>76.525</td>\n",
       "      <td>59.73</td>\n",
       "    </tr>\n",
       "    <tr>\n",
       "      <td>Amsterdam-Van Diemenstraat</td>\n",
       "      <td>99.429</td>\n",
       "      <td>61.996</td>\n",
       "      <td>76.8</td>\n",
       "      <td>82.767</td>\n",
       "      <td>75.092</td>\n",
       "      <td>72.775</td>\n",
       "      <td>61.04</td>\n",
       "    </tr>\n",
       "    <tr>\n",
       "      <td>Amsterdam-Vondelpark</td>\n",
       "      <td>98.1</td>\n",
       "      <td>62.583</td>\n",
       "      <td>69.271</td>\n",
       "      <td>77.183</td>\n",
       "      <td>61.521</td>\n",
       "      <td>77.804</td>\n",
       "      <td>58.43</td>\n",
       "    </tr>\n",
       "    <tr>\n",
       "      <td>Amsterdam-Stadhouderskade</td>\n",
       "      <td>93.048</td>\n",
       "      <td>68.513</td>\n",
       "      <td>79.167</td>\n",
       "      <td>74.308</td>\n",
       "      <td>63.575</td>\n",
       "      <td>75.954</td>\n",
       "      <td>61.03</td>\n",
       "    </tr>\n",
       "  </tbody>\n",
       "</table>\n",
       "</div>"
      ],
      "text/plain": [
       "                           PM2.5_2012 PM2.5_2013 PM2.5_2014 PM2.5_2015  \\\n",
       "PM2.5_name                                                               \n",
       "Amsterdam-Einsteinweg          93.713     62.946       79.0    -83.846   \n",
       "Amsterdam-Van Diemenstraat     99.429     61.996       76.8     82.767   \n",
       "Amsterdam-Vondelpark             98.1     62.583     69.271     77.183   \n",
       "Amsterdam-Stadhouderskade      93.048     68.513     79.167     74.308   \n",
       "\n",
       "                           PM2.5_2016 PM2.5_2017 PM2.5_2018  \n",
       "PM2.5_name                                                   \n",
       "Amsterdam-Einsteinweg          64.427     76.525      59.73  \n",
       "Amsterdam-Van Diemenstraat     75.092     72.775      61.04  \n",
       "Amsterdam-Vondelpark           61.521     77.804      58.43  \n",
       "Amsterdam-Stadhouderskade      63.575     75.954      61.03  "
      ]
     },
     "execution_count": 12,
     "metadata": {},
     "output_type": "execute_result"
    }
   ],
   "source": [
    "pollutant_two = pd.read_csv('../data/PM2.5_2010_2020.csv', sep=';')\n",
    "pollutant_two.drop(pollutant_two.iloc[:,:1], inplace = True, axis = 1) \n",
    "pollutant_two.columns = 'PM2.5_' + pollutant_two.columns\n",
    "amsterdam_pollutant_two = pollutant_two[pollutant_two['PM2.5_name'].str.contains('Amsterdam', na=False)]\n",
    "amsterdam_pollutant_two = amsterdam_pollutant_two.drop([38], axis = 0)\n",
    "amsterdam_pollutant_two = amsterdam_pollutant_two.set_index('PM2.5_name')\n",
    "amsterdam_pollutant_two"
   ]
  },
  {
   "cell_type": "code",
   "execution_count": 14,
   "metadata": {},
   "outputs": [
    {
     "data": {
      "text/plain": [
       "99.429"
      ]
     },
     "execution_count": 14,
     "metadata": {},
     "output_type": "execute_result"
    }
   ],
   "source": [
    "amsterdam_pollutant_two.max().max()"
   ]
  },
  {
   "cell_type": "code",
   "execution_count": 15,
   "metadata": {},
   "outputs": [
    {
     "data": {
      "text/plain": [
       "-83.846"
      ]
     },
     "execution_count": 15,
     "metadata": {},
     "output_type": "execute_result"
    }
   ],
   "source": [
    "amsterdam_pollutant_two.min().min()"
   ]
  },
  {
   "cell_type": "code",
   "execution_count": 16,
   "metadata": {},
   "outputs": [
    {
     "data": {
      "text/html": [
       "<div>\n",
       "<style scoped>\n",
       "    .dataframe tbody tr th:only-of-type {\n",
       "        vertical-align: middle;\n",
       "    }\n",
       "\n",
       "    .dataframe tbody tr th {\n",
       "        vertical-align: top;\n",
       "    }\n",
       "\n",
       "    .dataframe thead th {\n",
       "        text-align: right;\n",
       "    }\n",
       "</style>\n",
       "<table border=\"1\" class=\"dataframe\">\n",
       "  <thead>\n",
       "    <tr style=\"text-align: right;\">\n",
       "      <th></th>\n",
       "      <th>PM10_2012</th>\n",
       "      <th>PM10_2013</th>\n",
       "      <th>PM10_2014</th>\n",
       "      <th>PM10_2015</th>\n",
       "      <th>PM10_2016</th>\n",
       "      <th>PM10_2017</th>\n",
       "      <th>PM10_2018</th>\n",
       "    </tr>\n",
       "    <tr>\n",
       "      <th>PM10_name</th>\n",
       "      <th></th>\n",
       "      <th></th>\n",
       "      <th></th>\n",
       "      <th></th>\n",
       "      <th></th>\n",
       "      <th></th>\n",
       "      <th></th>\n",
       "    </tr>\n",
       "  </thead>\n",
       "  <tbody>\n",
       "    <tr>\n",
       "      <td>Amsterdam-Einsteinweg</td>\n",
       "      <td>108.925</td>\n",
       "      <td>70.929</td>\n",
       "      <td>97.85</td>\n",
       "      <td>86.138</td>\n",
       "      <td>73.15</td>\n",
       "      <td>86.608</td>\n",
       "      <td>69.15</td>\n",
       "    </tr>\n",
       "    <tr>\n",
       "      <td>Amsterdam-Van Diemenstraat</td>\n",
       "      <td>100.179</td>\n",
       "      <td>79.925</td>\n",
       "      <td>84.9</td>\n",
       "      <td>88.561</td>\n",
       "      <td>73.513</td>\n",
       "      <td>83.904</td>\n",
       "      <td>86.93</td>\n",
       "    </tr>\n",
       "    <tr>\n",
       "      <td>Amsterdam-Vondelpark</td>\n",
       "      <td>94.513</td>\n",
       "      <td>68.304</td>\n",
       "      <td>82.579</td>\n",
       "      <td>80.433</td>\n",
       "      <td>63.017</td>\n",
       "      <td>78.575</td>\n",
       "      <td>64.47</td>\n",
       "    </tr>\n",
       "    <tr>\n",
       "      <td>Amsterdam-Stadhouderskade</td>\n",
       "      <td>96.318</td>\n",
       "      <td>69.3</td>\n",
       "      <td>94.006</td>\n",
       "      <td>81.921</td>\n",
       "      <td>68.875</td>\n",
       "      <td>82.104</td>\n",
       "      <td>64.19</td>\n",
       "    </tr>\n",
       "  </tbody>\n",
       "</table>\n",
       "</div>"
      ],
      "text/plain": [
       "                           PM10_2012 PM10_2013 PM10_2014 PM10_2015 PM10_2016  \\\n",
       "PM10_name                                                                      \n",
       "Amsterdam-Einsteinweg        108.925    70.929     97.85    86.138     73.15   \n",
       "Amsterdam-Van Diemenstraat   100.179    79.925      84.9    88.561    73.513   \n",
       "Amsterdam-Vondelpark          94.513    68.304    82.579    80.433    63.017   \n",
       "Amsterdam-Stadhouderskade     96.318      69.3    94.006    81.921    68.875   \n",
       "\n",
       "                           PM10_2017 PM10_2018  \n",
       "PM10_name                                       \n",
       "Amsterdam-Einsteinweg         86.608     69.15  \n",
       "Amsterdam-Van Diemenstraat    83.904     86.93  \n",
       "Amsterdam-Vondelpark          78.575     64.47  \n",
       "Amsterdam-Stadhouderskade     82.104     64.19  "
      ]
     },
     "execution_count": 16,
     "metadata": {},
     "output_type": "execute_result"
    }
   ],
   "source": [
    "pollutant_three = pd.read_csv('../data/PM10_2010_2020.csv', sep=';')\n",
    "pollutant_three.drop(pollutant_three.iloc[:,:1], inplace = True, axis = 1) \n",
    "pollutant_three.columns = 'PM10_' + pollutant_three.columns\n",
    "amsterdam_pollutant_three = pollutant_three[pollutant_three['PM10_name'].str.contains('Amsterdam', na=False)]\n",
    "amsterdam_pollutant_three =  amsterdam_pollutant_three.drop([39,42, 44, 71, 73], axis = 0)\n",
    "amsterdam_pollutant_three = amsterdam_pollutant_three.set_index('PM10_name')\n",
    "amsterdam_pollutant_three"
   ]
  },
  {
   "cell_type": "code",
   "execution_count": 17,
   "metadata": {},
   "outputs": [
    {
     "data": {
      "text/plain": [
       "97.85"
      ]
     },
     "execution_count": 17,
     "metadata": {},
     "output_type": "execute_result"
    }
   ],
   "source": [
    "amsterdam_pollutant_three.max().max()"
   ]
  },
  {
   "cell_type": "code",
   "execution_count": 18,
   "metadata": {},
   "outputs": [
    {
     "data": {
      "text/plain": [
       "63.017"
      ]
     },
     "execution_count": 18,
     "metadata": {},
     "output_type": "execute_result"
    }
   ],
   "source": [
    "amsterdam_pollutant_three.min().min()"
   ]
  },
  {
   "cell_type": "code",
   "execution_count": null,
   "metadata": {},
   "outputs": [],
   "source": []
  }
 ],
 "metadata": {
  "kernelspec": {
   "display_name": "Python 3",
   "language": "python",
   "name": "python3"
  },
  "language_info": {
   "codemirror_mode": {
    "name": "ipython",
    "version": 3
   },
   "file_extension": ".py",
   "mimetype": "text/x-python",
   "name": "python",
   "nbconvert_exporter": "python",
   "pygments_lexer": "ipython3",
   "version": "3.7.4"
  }
 },
 "nbformat": 4,
 "nbformat_minor": 2
}
